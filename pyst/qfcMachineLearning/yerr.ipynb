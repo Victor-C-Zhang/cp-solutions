{
 "cells": [
  {
   "cell_type": "code",
   "execution_count": 1,
   "metadata": {
    "collapsed": true
   },
   "outputs": [
    {
     "name": "stdout",
     "output_type": "stream",
     "text": [
      "Hello World!\n"
     ]
    }
   ],
   "source": [
    "print 'Hello World!'"
   ]
  },
  {
   "cell_type": "code",
   "execution_count": 2,
   "metadata": {},
   "outputs": [
    {
     "ename": "ImportError",
     "evalue": "No module named pandas",
     "traceback": [
      "\u001b[0;31m\u001b[0m",
      "\u001b[0;31mImportError\u001b[0mTraceback (most recent call last)",
      "\u001b[0;32m<ipython-input-2-0ad2a6e836d1>\u001b[0m in \u001b[0;36m<module>\u001b[0;34m()\u001b[0m\n\u001b[0;32m----> 1\u001b[0;31m \u001b[0;32mimport\u001b[0m \u001b[0mpandas\u001b[0m \u001b[0;32mas\u001b[0m \u001b[0mpd\u001b[0m\u001b[0;34m;\u001b[0m \u001b[0mmain_file_path\u001b[0m \u001b[0;34m=\u001b[0m \u001b[0;34m'/home/victor/CODE/rucp/pyst/qfcMachineLearning/train.csv'\u001b[0m\u001b[0;34m;\u001b[0m \u001b[0mdata\u001b[0m \u001b[0;34m=\u001b[0m \u001b[0mpd\u001b[0m\u001b[0;34m.\u001b[0m\u001b[0mread_csv\u001b[0m\u001b[0;34m(\u001b[0m\u001b[0mmain_file_path\u001b[0m\u001b[0;34m)\u001b[0m\u001b[0;34m;\u001b[0m \u001b[0;32mprint\u001b[0m \u001b[0mdata\u001b[0m\u001b[0;34m.\u001b[0m\u001b[0mdescribe\u001b[0m\u001b[0;34m\u001b[0m\u001b[0m\n\u001b[0m",
      "\u001b[0;31mImportError\u001b[0m: No module named pandas"
     ],
     "output_type": "error"
    }
   ],
   "source": [
    "import pandas as pd; main_file_path = '/home/victor/CODE/rucp/pyst/qfcMachineLearning/train.csv'; data = pd.read_csv(main_file_path); print data.describe\n"
   ]
  },
  {
   "cell_type": "code",
   "execution_count": 3,
   "metadata": {},
   "outputs": [
    {
     "ename": "NameError",
     "evalue": "name 'data' is not defined",
     "traceback": [
      "\u001b[0;31m\u001b[0m",
      "\u001b[0;31mNameError\u001b[0mTraceback (most recent call last)",
      "\u001b[0;32m<ipython-input-3-b45374564173>\u001b[0m in \u001b[0;36m<module>\u001b[0;34m()\u001b[0m\n\u001b[0;32m----> 1\u001b[0;31m \u001b[0mprice\u001b[0m \u001b[0;34m=\u001b[0m \u001b[0mdata\u001b[0m\u001b[0;34m.\u001b[0m\u001b[0mSalePrice\u001b[0m\u001b[0;34m\u001b[0m\u001b[0m\n\u001b[0m\u001b[1;32m      2\u001b[0m \u001b[0;32mprint\u001b[0m \u001b[0mprice_data\u001b[0m\u001b[0;34m.\u001b[0m\u001b[0mhead\u001b[0m\u001b[0;34m(\u001b[0m\u001b[0;34m)\u001b[0m\u001b[0;34m\u001b[0m\u001b[0m\n",
      "\u001b[0;31mNameError\u001b[0m: name 'data' is not defined"
     ],
     "output_type": "error"
    }
   ],
   "source": [
    "price = data.SalePrice\n",
    "print price_data.head()\n"
   ]
  },
  {
   "cell_type": "code",
   "execution_count": 1,
   "metadata": {},
   "outputs": [
    {
     "name": "stdout",
     "output_type": "stream",
     "text": [
      "<bound method DataFrame.describe of         Id  MSSubClass MSZoning  LotFrontage  LotArea Street Alley LotShape  \\\n0        1          60       RL         65.0     8450   Pave   NaN      Reg   \n1        2          20       RL         80.0     9600   Pave   NaN      Reg   \n2        3          60       RL         68.0    11250   Pave   NaN      IR1   \n3        4          70       RL         60.0     9550   Pave   NaN      IR1   \n4        5          60       RL         84.0    14260   Pave   NaN      IR1   \n5        6          50       RL         85.0    14115   Pave   NaN      IR1   \n6        7          20       RL         75.0    10084   Pave   NaN      Reg   \n7        8          60       RL          NaN    10382   Pave   NaN      IR1   \n8        9          50       RM         51.0     6120   Pave   NaN      Reg   \n9       10         190       RL         50.0     7420   Pave   NaN      Reg   \n10      11          20       RL         70.0    11200   Pave   NaN      Reg   \n11      12          60       RL         85.0    11924   Pave   NaN      IR1   \n12      13          20       RL          NaN    12968   Pave   NaN      IR2   \n13      14          20       RL         91.0    10652   Pave   NaN      IR1   \n14      15          20       RL          NaN    10920   Pave   NaN      IR1   \n15      16          45       RM         51.0     6120   Pave   NaN      Reg   \n16      17          20       RL          NaN    11241   Pave   NaN      IR1   \n17      18          90       RL         72.0    10791   Pave   NaN      Reg   \n18      19          20       RL         66.0    13695   Pave   NaN      Reg   \n19      20          20       RL         70.0     7560   Pave   NaN      Reg   \n20      21          60       RL        101.0    14215   Pave   NaN      IR1   \n21      22          45       RM         57.0     7449   Pave  Grvl      Reg   \n22      23          20       RL         75.0     9742   Pave   NaN      Reg   \n23      24         120       RM         44.0     4224   Pave   NaN      Reg   \n24      25          20       RL          NaN     8246   Pave   NaN      IR1   \n25      26          20       RL        110.0    14230   Pave   NaN      Reg   \n26      27          20       RL         60.0     7200   Pave   NaN      Reg   \n27      28          20       RL         98.0    11478   Pave   NaN      Reg   \n28      29          20       RL         47.0    16321   Pave   NaN      IR1   \n29      30          30       RM         60.0     6324   Pave   NaN      IR1   \n...    ...         ...      ...          ...      ...    ...   ...      ...   \n1430  1431          60       RL         60.0    21930   Pave   NaN      IR3   \n1431  1432         120       RL          NaN     4928   Pave   NaN      IR1   \n1432  1433          30       RL         60.0    10800   Pave  Grvl      Reg   \n1433  1434          60       RL         93.0    10261   Pave   NaN      IR1   \n1434  1435          20       RL         80.0    17400   Pave   NaN      Reg   \n1435  1436          20       RL         80.0     8400   Pave   NaN      Reg   \n1436  1437          20       RL         60.0     9000   Pave   NaN      Reg   \n1437  1438          20       RL         96.0    12444   Pave   NaN      Reg   \n1438  1439          20       RM         90.0     7407   Pave   NaN      Reg   \n1439  1440          60       RL         80.0    11584   Pave   NaN      Reg   \n1440  1441          70       RL         79.0    11526   Pave   NaN      IR1   \n1441  1442         120       RM          NaN     4426   Pave   NaN      Reg   \n1442  1443          60       FV         85.0    11003   Pave   NaN      Reg   \n1443  1444          30       RL          NaN     8854   Pave   NaN      Reg   \n1444  1445          20       RL         63.0     8500   Pave   NaN      Reg   \n1445  1446          85       RL         70.0     8400   Pave   NaN      Reg   \n1446  1447          20       RL          NaN    26142   Pave   NaN      IR1   \n1447  1448          60       RL         80.0    10000   Pave   NaN      Reg   \n1448  1449          50       RL         70.0    11767   Pave   NaN      Reg   \n1449  1450         180       RM         21.0     1533   Pave   NaN      Reg   \n1450  1451          90       RL         60.0     9000   Pave   NaN      Reg   \n1451  1452          20       RL         78.0     9262   Pave   NaN      Reg   \n1452  1453         180       RM         35.0     3675   Pave   NaN      Reg   \n1453  1454          20       RL         90.0    17217   Pave   NaN      Reg   \n1454  1455          20       FV         62.0     7500   Pave  Pave      Reg   \n1455  1456          60       RL         62.0     7917   Pave   NaN      Reg   \n1456  1457          20       RL         85.0    13175   Pave   NaN      Reg   \n1457  1458          70       RL         66.0     9042   Pave   NaN      Reg   \n1458  1459          20       RL         68.0     9717   Pave   NaN      Reg   \n1459  1460          20       RL         75.0     9937   Pave   NaN      Reg   \n\n     LandContour Utilities    ...     PoolArea PoolQC  Fence MiscFeature  \\\n0            Lvl    AllPub    ...            0    NaN    NaN         NaN   \n1            Lvl    AllPub    ...            0    NaN    NaN         NaN   \n2            Lvl    AllPub    ...            0    NaN    NaN         NaN   \n3            Lvl    AllPub    ...            0    NaN    NaN         NaN   \n4            Lvl    AllPub    ...            0    NaN    NaN         NaN   \n5            Lvl    AllPub    ...            0    NaN  MnPrv        Shed   \n6            Lvl    AllPub    ...            0    NaN    NaN         NaN   \n7            Lvl    AllPub    ...            0    NaN    NaN        Shed   \n8            Lvl    AllPub    ...            0    NaN    NaN         NaN   \n9            Lvl    AllPub    ...            0    NaN    NaN         NaN   \n10           Lvl    AllPub    ...            0    NaN    NaN         NaN   \n11           Lvl    AllPub    ...            0    NaN    NaN         NaN   \n12           Lvl    AllPub    ...            0    NaN    NaN         NaN   \n13           Lvl    AllPub    ...            0    NaN    NaN         NaN   \n14           Lvl    AllPub    ...            0    NaN   GdWo         NaN   \n15           Lvl    AllPub    ...            0    NaN  GdPrv         NaN   \n16           Lvl    AllPub    ...            0    NaN    NaN        Shed   \n17           Lvl    AllPub    ...            0    NaN    NaN        Shed   \n18           Lvl    AllPub    ...            0    NaN    NaN         NaN   \n19           Lvl    AllPub    ...            0    NaN  MnPrv         NaN   \n20           Lvl    AllPub    ...            0    NaN    NaN         NaN   \n21           Bnk    AllPub    ...            0    NaN  GdPrv         NaN   \n22           Lvl    AllPub    ...            0    NaN    NaN         NaN   \n23           Lvl    AllPub    ...            0    NaN    NaN         NaN   \n24           Lvl    AllPub    ...            0    NaN  MnPrv         NaN   \n25           Lvl    AllPub    ...            0    NaN    NaN         NaN   \n26           Lvl    AllPub    ...            0    NaN    NaN         NaN   \n27           Lvl    AllPub    ...            0    NaN    NaN         NaN   \n28           Lvl    AllPub    ...            0    NaN    NaN         NaN   \n29           Lvl    AllPub    ...            0    NaN    NaN         NaN   \n...          ...       ...    ...          ...    ...    ...         ...   \n1430         Lvl    AllPub    ...            0    NaN    NaN         NaN   \n1431         Lvl    AllPub    ...            0    NaN    NaN         NaN   \n1432         Lvl    AllPub    ...            0    NaN    NaN         NaN   \n1433         Lvl    AllPub    ...            0    NaN    NaN         NaN   \n1434         Low    AllPub    ...            0    NaN    NaN         NaN   \n1435         Lvl    AllPub    ...            0    NaN  GdPrv         NaN   \n1436         Lvl    AllPub    ...            0    NaN   GdWo         NaN   \n1437         Lvl    AllPub    ...            0    NaN    NaN         NaN   \n1438         Lvl    AllPub    ...            0    NaN  MnPrv         NaN   \n1439         Lvl    AllPub    ...            0    NaN    NaN         NaN   \n1440         Bnk    AllPub    ...            0    NaN    NaN         NaN   \n1441         Lvl    AllPub    ...            0    NaN    NaN         NaN   \n1442         Lvl    AllPub    ...            0    NaN    NaN         NaN   \n1443         Lvl    AllPub    ...            0    NaN    NaN         NaN   \n1444         Lvl    AllPub    ...            0    NaN    NaN         NaN   \n1445         Lvl    AllPub    ...            0    NaN    NaN         NaN   \n1446         Lvl    AllPub    ...            0    NaN    NaN         NaN   \n1447         Lvl    AllPub    ...            0    NaN    NaN         NaN   \n1448         Lvl    AllPub    ...            0    NaN   GdWo         NaN   \n1449         Lvl    AllPub    ...            0    NaN    NaN         NaN   \n1450         Lvl    AllPub    ...            0    NaN    NaN         NaN   \n1451         Lvl    AllPub    ...            0    NaN    NaN         NaN   \n1452         Lvl    AllPub    ...            0    NaN    NaN         NaN   \n1453         Lvl    AllPub    ...            0    NaN    NaN         NaN   \n1454         Lvl    AllPub    ...            0    NaN    NaN         NaN   \n1455         Lvl    AllPub    ...            0    NaN    NaN         NaN   \n1456         Lvl    AllPub    ...            0    NaN  MnPrv         NaN   \n1457         Lvl    AllPub    ...            0    NaN  GdPrv        Shed   \n1458         Lvl    AllPub    ...            0    NaN    NaN         NaN   \n1459         Lvl    AllPub    ...            0    NaN    NaN         NaN   \n\n     MiscVal MoSold YrSold  SaleType  SaleCondition  SalePrice  \n0          0      2   2008        WD         Normal     208500  \n1          0      5   2007        WD         Normal     181500  \n2          0      9   2008        WD         Normal     223500  \n3          0      2   2006        WD        Abnorml     140000  \n4          0     12   2008        WD         Normal     250000  \n5        700     10   2009        WD         Normal     143000  \n6          0      8   2007        WD         Normal     307000  \n7        350     11   2009        WD         Normal     200000  \n8          0      4   2008        WD        Abnorml     129900  \n9          0      1   2008        WD         Normal     118000  \n10         0      2   2008        WD         Normal     129500  \n11         0      7   2006       New        Partial     345000  \n12         0      9   2008        WD         Normal     144000  \n13         0      8   2007       New        Partial     279500  \n14         0      5   2008        WD         Normal     157000  \n15         0      7   2007        WD         Normal     132000  \n16       700      3   2010        WD         Normal     149000  \n17       500     10   2006        WD         Normal      90000  \n18         0      6   2008        WD         Normal     159000  \n19         0      5   2009       COD        Abnorml     139000  \n20         0     11   2006       New        Partial     325300  \n21         0      6   2007        WD         Normal     139400  \n22         0      9   2008        WD         Normal     230000  \n23         0      6   2007        WD         Normal     129900  \n24         0      5   2010        WD         Normal     154000  \n25         0      7   2009        WD         Normal     256300  \n26         0      5   2010        WD         Normal     134800  \n27         0      5   2010        WD         Normal     306000  \n28         0     12   2006        WD         Normal     207500  \n29         0      5   2008        WD         Normal      68500  \n...      ...    ...    ...       ...            ...        ...  \n1430       0      7   2006        WD         Normal     192140  \n1431       0     10   2009        WD         Normal     143750  \n1432       0      8   2007        WD         Normal      64500  \n1433       0      5   2008        WD         Normal     186500  \n1434       0      5   2006        WD         Normal     160000  \n1435       0      7   2008       COD        Abnorml     174000  \n1436       0      5   2007        WD         Normal     120500  \n1437       0     11   2008       New        Partial     394617  \n1438       0      4   2010        WD         Normal     149700  \n1439       0     11   2007        WD         Normal     197000  \n1440       0      9   2008        WD         Normal     191000  \n1441       0      5   2008        WD         Normal     149300  \n1442       0      4   2009        WD         Normal     310000  \n1443       0      5   2009        WD         Normal     121000  \n1444       0     11   2007        WD         Normal     179600  \n1445       0      5   2007        WD         Normal     129000  \n1446       0      4   2010        WD         Normal     157900  \n1447       0     12   2007        WD         Normal     240000  \n1448       0      5   2007        WD         Normal     112000  \n1449       0      8   2006        WD        Abnorml      92000  \n1450       0      9   2009        WD         Normal     136000  \n1451       0      5   2009       New        Partial     287090  \n1452       0      5   2006        WD         Normal     145000  \n1453       0      7   2006        WD        Abnorml      84500  \n1454       0     10   2009        WD         Normal     185000  \n1455       0      8   2007        WD         Normal     175000  \n1456       0      2   2010        WD         Normal     210000  \n1457    2500      5   2010        WD         Normal     266500  \n1458       0      4   2010        WD         Normal     142125  \n1459       0      6   2008        WD         Normal     147500  \n\n[1460 rows x 81 columns]>\n"
     ]
    }
   ],
   "source": [
    "import pandas as pd; main_file_path = '/home/victor/CODE/rucp/pyst/qfcMachineLearning/train.csv'; data = pd.read_csv(main_file_path); print data.describe\n"
   ]
  },
  {
   "cell_type": "code",
   "execution_count": 2,
   "metadata": {},
   "outputs": [
    {
     "ename": "ImportError",
     "evalue": "No module named sklearn",
     "traceback": [
      "\u001b[0;31m\u001b[0m",
      "\u001b[0;31mImportError\u001b[0mTraceback (most recent call last)",
      "\u001b[0;32m<ipython-input-2-8fd979e02004>\u001b[0m in \u001b[0;36m<module>\u001b[0;34m()\u001b[0m\n\u001b[0;32m----> 1\u001b[0;31m \u001b[0;32mimport\u001b[0m \u001b[0msklearn\u001b[0m\u001b[0;34m\u001b[0m\u001b[0m\n\u001b[0m",
      "\u001b[0;31mImportError\u001b[0m: No module named sklearn"
     ],
     "output_type": "error"
    }
   ],
   "source": [
    "import sklearn"
   ]
  },
  {
   "cell_type": "code",
   "execution_count": 4,
   "metadata": {},
   "outputs": [],
   "source": [
    "y = data.SalePrice\n",
    "predictors = ['LotArea','YearBuilt','1stFlrSF','2ndFlrSF','FullBath','BedroomAbvGr']\n",
    "X = data[predictors]\n"
   ]
  },
  {
   "cell_type": "code",
   "execution_count": 5,
   "metadata": {},
   "outputs": [
    {
     "data": {
      "text/plain": [
       "DecisionTreeRegressor(criterion='mse', max_depth=None, max_features=None,\n           max_leaf_nodes=None, min_impurity_decrease=0.0,\n           min_impurity_split=None, min_samples_leaf=1,\n           min_samples_split=2, min_weight_fraction_leaf=0.0,\n           presort=False, random_state=None, splitter='best')"
      ]
     },
     "execution_count": 5,
     "metadata": {},
     "output_type": "execute_result"
    }
   ],
   "source": [
    "from sklearn.tree import DecisionTreeRegressor\n",
    "data_model = DecisionTreeRegressor()\n",
    "data_model.fit(X,y)"
   ]
  },
  {
   "cell_type": "code",
   "execution_count": 6,
   "metadata": {},
   "outputs": [
    {
     "name": "stdout",
     "output_type": "stream",
     "text": [
      "   LotArea  YearBuilt  1stFlrSF  2ndFlrSF  FullBath  BedroomAbvGr\n0     8450       2003       856       854         2             3\n1     9600       1976      1262         0         2             3\n2    11250       2001       920       866         2             3\n3     9550       1915       961       756         1             3\n4    14260       2000      1145      1053         2             4\nPredictions are \n[208500. 181500. 223500. 140000. 250000.]\n"
     ]
    }
   ],
   "source": [
    "print X.head()\n",
    "print \"Predictions are \"\n",
    "print data_model.predict(X.head())"
   ]
  },
  {
   "cell_type": "code",
   "execution_count": 7,
   "metadata": {},
   "outputs": [
    {
     "data": {
      "text/plain": [
       "73.31324200913242"
      ]
     },
     "execution_count": 7,
     "metadata": {},
     "output_type": "execute_result"
    }
   ],
   "source": [
    "from sklearn.metrics import mean_absolute_error\n",
    "predicted_home_prices = data_model.predict(X)\n",
    "mean_absolute_error(y, predicted_home_prices)"
   ]
  },
  {
   "cell_type": "code",
   "execution_count": 8,
   "metadata": {},
   "outputs": [
    {
     "name": "stdout",
     "output_type": "stream",
     "text": [
      "30539.172602739727\n"
     ]
    }
   ],
   "source": [
    "from sklearn.model_selection import train_test_split\n",
    "train_X, val_X,train_y,val_y = train_test_split(X,y, random_state=0)\n",
    "data_model = DecisionTreeRegressor()\n",
    "data_model.fit(train_X,train_y)\n",
    "val_predictions = data_model.predict(val_X)\n",
    "print mean_absolute_error(val_y, val_predictions)"
   ]
  },
  {
   "cell_type": "code",
   "execution_count": 9,
   "metadata": {},
   "outputs": [],
   "source": [
    "from sklearn.metrics import mean_absolute_error\n",
    "from sklearn.tree import DecisionTreeRegressor\n",
    "\n",
    "def get_mae(max_leaf_nodes, predictors_train, predictors_val, targ_train, targ_val):\n",
    "    model = DecisionTreeRegressor(max_leaf_nodes=max_leaf_nodes, random_state=0)\n",
    "    model.fit(predictors_train, targ_train)\n",
    "    preds_val = model.predict(predictors_val)\n",
    "    mae = mean_absolute_error(targ_val, preds_val)\n",
    "    return mae\n"
   ]
  },
  {
   "cell_type": "code",
   "execution_count": 10,
   "metadata": {},
   "outputs": [
    {
     "name": "stdout",
     "output_type": "stream",
     "text": [
      "Max leaf nodes: 5 \t \t MAE: 35190\nMax leaf nodes: 50 \t \t MAE: 26860\nMax leaf nodes: 500 \t \t MAE: 29718\nMax leaf nodes: 5000 \t \t MAE: 29833\n"
     ]
    }
   ],
   "source": [
    "for max_leaf_nodes in [5,50,500,5000]:\n",
    "    my_mae = get_mae(max_leaf_nodes, train_X, val_X, train_y, val_y)\n",
    "    print 'Max leaf nodes: %d \\t \\t MAE: %d' %(max_leaf_nodes,my_mae)"
   ]
  },
  {
   "cell_type": "code",
   "execution_count": 11,
   "metadata": {},
   "outputs": [
    {
     "name": "stdout",
     "output_type": "stream",
     "text": [
      "23719.60550554468\n"
     ]
    },
    {
     "name": "stderr",
     "output_type": "stream",
     "text": [
      "/home/victor/CODE/rucp/pyst/venv/local/lib/python2.7/site-packages/sklearn/ensemble/forest.py:246: FutureWarning: The default value of n_estimators will change from 10 in version 0.20 to 100 in 0.22.\n  \"10 in version 0.20 to 100 in 0.22.\", FutureWarning)\n"
     ]
    }
   ],
   "source": [
    "from sklearn.ensemble import RandomForestRegressor\n",
    "from sklearn.metrics import mean_absolute_error\n",
    "\n",
    "forest_model = RandomForestRegressor(random_state=1)\n",
    "forest_model.fit(train_X, train_y)\n",
    "preds = forest_model.predict(val_X)\n",
    "print mean_absolute_error(val_y, preds)"
   ]
  },
  {
   "cell_type": "code",
   "execution_count": 12,
   "metadata": {},
   "outputs": [
    {
     "name": "stdout",
     "output_type": "stream",
     "text": [
      "LotFrontage      259\nAlley           1369\nMasVnrType         8\nMasVnrArea         8\nBsmtQual          37\nBsmtCond          37\nBsmtExposure      38\nBsmtFinType1      37\nBsmtFinType2      38\nElectrical         1\nFireplaceQu      690\nGarageType        81\nGarageYrBlt       81\nGarageFinish      81\nGarageQual        81\nGarageCond        81\nPoolQC          1453\nFence           1179\nMiscFeature     1406\ndtype: int64\n"
     ]
    }
   ],
   "source": [
    "missing_val_count_by_column = (data.isnull().sum())\n",
    "print missing_val_count_by_column[missing_val_count_by_column > 0]"
   ]
  },
  {
   "cell_type": "code",
   "execution_count": 13,
   "metadata": {},
   "outputs": [
    {
     "ename": "AttributeError",
     "evalue": "'str' object has no attribute 'isnull'",
     "traceback": [
      "\u001b[0;31m\u001b[0m",
      "\u001b[0;31mAttributeError\u001b[0mTraceback (most recent call last)",
      "\u001b[0;32m<ipython-input-13-e63757459a11>\u001b[0m in \u001b[0;36m<module>\u001b[0;34m()\u001b[0m\n\u001b[1;32m      2\u001b[0m \u001b[0mnew_X_predictors\u001b[0m \u001b[0;34m=\u001b[0m \u001b[0mnew_X\u001b[0m\u001b[0;34m.\u001b[0m\u001b[0mselect_dtypes\u001b[0m\u001b[0;34m(\u001b[0m\u001b[0mexclude\u001b[0m\u001b[0;34m=\u001b[0m\u001b[0;34m[\u001b[0m\u001b[0;34m'object'\u001b[0m\u001b[0;34m]\u001b[0m\u001b[0;34m)\u001b[0m\u001b[0;34m\u001b[0m\u001b[0m\n\u001b[1;32m      3\u001b[0m \u001b[0mtrain_X\u001b[0m\u001b[0;34m,\u001b[0m \u001b[0mval_X\u001b[0m\u001b[0;34m,\u001b[0m \u001b[0mtrain_y\u001b[0m\u001b[0;34m,\u001b[0m \u001b[0mval_y\u001b[0m \u001b[0;34m=\u001b[0m \u001b[0mtrain_test_split\u001b[0m\u001b[0;34m(\u001b[0m\u001b[0mnew_X_predictors\u001b[0m\u001b[0;34m,\u001b[0m \u001b[0my\u001b[0m \u001b[0;34m,\u001b[0m\u001b[0mrandom_state\u001b[0m\u001b[0;34m=\u001b[0m\u001b[0;36m0\u001b[0m\u001b[0;34m)\u001b[0m\u001b[0;34m\u001b[0m\u001b[0m\n\u001b[0;32m----> 4\u001b[0;31m \u001b[0mcols_with_missing\u001b[0m \u001b[0;34m=\u001b[0m \u001b[0;34m[\u001b[0m\u001b[0mcol\u001b[0m \u001b[0;32mfor\u001b[0m \u001b[0mcol\u001b[0m \u001b[0;32min\u001b[0m \u001b[0mtrain_X\u001b[0m\u001b[0;34m.\u001b[0m\u001b[0mcolumns\u001b[0m \u001b[0;32mif\u001b[0m \u001b[0mtrain_X\u001b[0m\u001b[0;34m[\u001b[0m\u001b[0mcol\u001b[0m\u001b[0;34m.\u001b[0m\u001b[0misnull\u001b[0m\u001b[0;34m(\u001b[0m\u001b[0;34m)\u001b[0m\u001b[0;34m.\u001b[0m\u001b[0many\u001b[0m\u001b[0;34m(\u001b[0m\u001b[0;34m)\u001b[0m\u001b[0;34m]\u001b[0m\u001b[0;34m]\u001b[0m\u001b[0;34m\u001b[0m\u001b[0m\n\u001b[0m\u001b[1;32m      5\u001b[0m \u001b[0mreduced_X_train\u001b[0m \u001b[0;34m=\u001b[0m \u001b[0mtrain_X\u001b[0m\u001b[0;34m.\u001b[0m\u001b[0mdrop\u001b[0m\u001b[0;34m(\u001b[0m\u001b[0mcols_with_missing\u001b[0m\u001b[0;34m,\u001b[0m \u001b[0maxis\u001b[0m\u001b[0;34m=\u001b[0m\u001b[0;36m1\u001b[0m\u001b[0;34m)\u001b[0m\u001b[0;34m\u001b[0m\u001b[0m\n\u001b[1;32m      6\u001b[0m \u001b[0mreduced_X_test\u001b[0m \u001b[0;34m=\u001b[0m \u001b[0mval_X\u001b[0m\u001b[0;34m.\u001b[0m\u001b[0mdrop\u001b[0m\u001b[0;34m(\u001b[0m\u001b[0mcols_with_missing\u001b[0m\u001b[0;34m,\u001b[0m \u001b[0maxis\u001b[0m\u001b[0;34m=\u001b[0m\u001b[0;36m1\u001b[0m\u001b[0;34m)\u001b[0m\u001b[0;34m\u001b[0m\u001b[0m\n",
      "\u001b[0;31mAttributeError\u001b[0m: 'str' object has no attribute 'isnull'"
     ],
     "output_type": "error"
    }
   ],
   "source": [
    "new_X = data.drop(['SalePrice'], axis=1)\n",
    "new_X_predictors = new_X.select_dtypes(exclude=['object'])\n",
    "train_X, val_X, train_y, val_y = train_test_split(new_X_predictors, y ,random_state=0)\n",
    "cols_with_missing = [col for col in train_X.columns if train_X[col.isnull().any()]]\n",
    "reduced_X_train = train_X.drop(cols_with_missing, axis=1)\n",
    "reduced_X_test = val_X.drop(cols_with_missing, axis=1)\n",
    "\n",
    "print \"MAE from dropping cols with missing\"\n",
    "print get_mae(50, reduced_X_train, reduced_X_test, train_y, val_y)\n"
   ]
  },
  {
   "cell_type": "code",
   "execution_count": 14,
   "metadata": {},
   "outputs": [
    {
     "name": "stdout",
     "output_type": "stream",
     "text": [
      "MAE from imputaton\n24574.167768900646\n"
     ]
    },
    {
     "name": "stderr",
     "output_type": "stream",
     "text": [
      "/home/victor/CODE/rucp/pyst/venv/local/lib/python2.7/site-packages/sklearn/utils/deprecation.py:58: DeprecationWarning: Class Imputer is deprecated; Imputer was deprecated in version 0.20 and will be removed in 0.22. Import impute.SimpleImputer from sklearn instead.\n  warnings.warn(msg, category=DeprecationWarning)\n"
     ]
    }
   ],
   "source": [
    "from sklearn.preprocessing import Imputer\n",
    "my_imputer = Imputer()\n",
    "imputed_X_train = my_imputer.fit_transform((train_X))\n",
    "imputed_X_test = my_imputer.transform(val_X)\n",
    "\n",
    "print \"MAE from imputaton\"\n",
    "print get_mae(50, imputed_X_train, imputed_X_test, train_y, val_y)"
   ]
  },
  {
   "cell_type": "code",
   "execution_count": null,
   "metadata": {},
   "outputs": [],
   "source": []
  }
 ],
 "metadata": {
  "kernelspec": {
   "display_name": "Python 2",
   "language": "python",
   "name": "python2"
  },
  "language_info": {
   "codemirror_mode": {
    "name": "ipython",
    "version": 2
   },
   "file_extension": ".py",
   "mimetype": "text/x-python",
   "name": "python",
   "nbconvert_exporter": "python",
   "pygments_lexer": "ipython2",
   "version": "2.7.6"
  }
 },
 "nbformat": 4,
 "nbformat_minor": 0
}
